{
 "cells": [
  {
   "cell_type": "code",
   "execution_count": 8,
   "id": "de1f8eb3-10fa-4244-83e1-08533f5031e5",
   "metadata": {},
   "outputs": [
    {
     "name": "stdout",
     "output_type": "stream",
     "text": [
      "Epoch 1/5\n",
      "750/750 [==============================] - 7s 7ms/step - loss: 0.3316 - accuracy: 0.9081 - val_loss: 0.1792 - val_accuracy: 0.9484\n",
      "Epoch 2/5\n",
      "750/750 [==============================] - 6s 7ms/step - loss: 0.1503 - accuracy: 0.9569 - val_loss: 0.1364 - val_accuracy: 0.9601\n",
      "Epoch 3/5\n",
      "750/750 [==============================] - 5s 7ms/step - loss: 0.1052 - accuracy: 0.9687 - val_loss: 0.1068 - val_accuracy: 0.9695\n",
      "Epoch 4/5\n",
      "750/750 [==============================] - 6s 8ms/step - loss: 0.0799 - accuracy: 0.9764 - val_loss: 0.1030 - val_accuracy: 0.9701\n",
      "Epoch 5/5\n",
      "750/750 [==============================] - 6s 8ms/step - loss: 0.0638 - accuracy: 0.9814 - val_loss: 0.0951 - val_accuracy: 0.9712\n",
      "313/313 [==============================] - 2s 5ms/step - loss: 0.0882 - accuracy: 0.9725\n",
      "Test accuracy: 0.9725000262260437\n"
     ]
    }
   ],
   "source": [
    "import numpy as np\n",
    "from keras.datasets import mnist\n",
    "from keras.models import Sequential\n",
    "from keras.layers import Dense, Flatten\n",
    "from keras.utils import to_categorical\n",
    "\n",
    "# Load the MNIST dataset (handwritten digits)\n",
    "(train_images, train_labels), (test_images, test_labels) = mnist.load_data()\n",
    "\n",
    "# Preprocess the data\n",
    "train_images = train_images.reshape((60000, 28, 28, 1)).astype('float32') / 255\n",
    "test_images = test_images.reshape((10000, 28, 28, 1)).astype('float32') / 255\n",
    "\n",
    "train_labels = to_categorical(train_labels)\n",
    "test_labels = to_categorical(test_labels)\n",
    "\n",
    "# Create a neural network model\n",
    "model = Sequential()\n",
    "model.add(Flatten(input_shape=(28, 28, 1)))\n",
    "model.add(Dense(128, activation='relu'))\n",
    "model.add(Dense(10, activation='softmax'))\n",
    "\n",
    "# Compile the model\n",
    "model.compile(optimizer='adam', loss='categorical_crossentropy', metrics=['accuracy'])\n",
    "\n",
    "# Train the model\n",
    "model.fit(train_images, train_labels, epochs=5, batch_size=64, validation_split=0.2)\n",
    "\n",
    "# Evaluate the model on the test data\n",
    "test_loss, test_accuracy = model.evaluate(test_images, test_labels)\n",
    "print(f\"Test accuracy: {test_accuracy}\")\n"
   ]
  },
  {
   "cell_type": "code",
   "execution_count": 6,
   "id": "e747208a-a0e0-42fc-99a8-ba6a1b39e086",
   "metadata": {},
   "outputs": [
    {
     "name": "stdout",
     "output_type": "stream",
     "text": [
      "1/1 [==============================] - 0s 100ms/step\n"
     ]
    },
    {
     "data": {
      "image/png": "[encoded data removed]",
      "text/plain": [
       "<Figure size 800x400 with 2 Axes>"
      ]
     },
     "metadata": {},
     "output_type": "display_data"
    },
    {
     "name": "stdout",
     "output_type": "stream",
     "text": [
      "Prediction is correct!\n"
     ]
    }
   ],
   "source": [
    "import matplotlib.pyplot as plt\n",
    "\n",
    "# Choose a random test image to predict\n",
    "random_test_index = np.random.randint(0, len(test_images))\n",
    "random_test_image = test_images[random_test_index]\n",
    "actual_digit = np.argmax(test_labels[random_test_index])\n",
    "\n",
    "# Reshape the image and make a prediction\n",
    "prediction = model.predict(np.expand_dims(random_test_image, axis=0))\n",
    "predicted_digit = np.argmax(prediction)\n",
    "\n",
    "# Display the actual digit image and the predicted digit\n",
    "plt.figure(figsize=(8, 4))\n",
    "plt.subplot(1, 2, 1)\n",
    "plt.imshow(random_test_image.reshape(28, 28), cmap='gray')\n",
    "plt.title(f\"Actual Digit: {actual_digit}\")\n",
    "plt.subplot(1, 2, 2)\n",
    "plt.imshow(random_test_image.reshape(28, 28), cmap='gray')\n",
    "plt.title(f\"Predicted Digit: {predicted_digit}\")\n",
    "plt.show()\n",
    "\n",
    "# Print the result\n",
    "if actual_digit == predicted_digit:\n",
    "    print(\"Prediction is correct!\")\n",
    "else:\n",
    "    print(\"Prediction is incorrect.\")"
   ]
  },
  {
   "cell_type": "code",
   "execution_count": null,
   "id": "0eb37930-cd55-4da9-95a1-9fa51ff3f8d3",
   "metadata": {},
   "outputs": [],
   "source": []
  },
  {
   "cell_type": "code",
   "execution_count": null,
   "id": "f4a52e6c-c036-4e75-bb16-5c919eca8255",
   "metadata": {},
   "outputs": [],
   "source": []
  }
 ],
 "metadata": {
  "kernelspec": {
   "display_name": "Python 3 (ipykernel)",
   "language": "python",
   "name": "python3"
  },
  "language_info": {
   "codemirror_mode": {
    "name": "ipython",
    "version": 3
   },
   "file_extension": ".py",
   "mimetype": "text/x-python",
   "name": "python",
   "nbconvert_exporter": "python",
   "pygments_lexer": "ipython3",
   "version": "3.9.13"
  }
 },
 "nbformat": 4,
 "nbformat_minor": 5
}
