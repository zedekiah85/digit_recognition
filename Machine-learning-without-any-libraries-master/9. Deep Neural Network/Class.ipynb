{
 "cells": [
  {
   "cell_type": "code",
   "execution_count": 2,
   "id": "fe7d11e5-527a-47da-8055-0d8932f11be0",
   "metadata": {},
   "outputs": [
    {
     "name": "stdin",
     "output_type": "stream",
     "text": [
      "Enter your name Erick\n",
      "Enter your age 25\n"
     ]
    },
    {
     "name": "stdout",
     "output_type": "stream",
     "text": [
      "My name is Erick, 25\n"
     ]
    }
   ],
   "source": [
    "name  = input(\"Enter your name\")\n",
    "year = int(input(\"Enter your age\"))\n",
    "print(f\"My name is {name}, {year}\")"
   ]
  },
  {
   "cell_type": "code",
   "execution_count": null,
   "id": "dc5746de-4933-42c5-9e93-fbdfcfe8e20c",
   "metadata": {},
   "outputs": [],
   "source": [
    "import numpy as np\n"
   ]
  }
 ],
 "metadata": {
  "kernelspec": {
   "display_name": "Python 3 (ipykernel)",
   "language": "python",
   "name": "python3"
  },
  "language_info": {
   "codemirror_mode": {
    "name": "ipython",
    "version": 3
   },
   "file_extension": ".py",
   "mimetype": "text/x-python",
   "name": "python",
   "nbconvert_exporter": "python",
   "pygments_lexer": "ipython3",
   "version": "3.9.13"
  }
 },
 "nbformat": 4,
 "nbformat_minor": 5
}
