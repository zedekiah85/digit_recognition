{
 "cells": [
  {
   "cell_type": "markdown",
   "metadata": {},
   "source": [
    "# KNN or K-Nearest Neighbours"
   ]
  },
  {
   "cell_type": "markdown",
   "metadata": {},
   "source": [
    "KNN is a lazy learning algorithm which is used for classification. In this algorithm, the unknown or test set data will consider 'K' nearest neighbours from training set and predict the class based on count of its 'K' nearest neighbours i.e Among it's K nearest neighbours, which ever class has the highest count, it will be assigned to that particular class. Steps involved in this algorithm are:\n",
    "\n",
    "1. Choose the number K of neighbours\n",
    "2. Take the K nearest neighbours of the new data point, according to Euclidian Distance\n",
    "3. Among the data points, count the number of datapoints in each category.\n",
    "4. Assign the new data point to the category where you counted the most neighbours."
   ]
  },
  {
   "cell_type": "code",
   "execution_count": 2,
   "metadata": {},
   "outputs": [],
   "source": [
    "# -*- coding: utf-8 -*-\n",
    "\"\"\"\n",
    "Created on Mon Nov 26 16:06:25 2018\n",
    "\n",
    "@author: purandur\n",
    "\"\"\"\n",
    "#imporing libraries\n",
    "import numpy as np\n",
    "import matplotlib.pyplot as plt\n",
    "import pandas as pd\n",
    "import time"
   ]
  },
  {
   "cell_type": "code",
   "execution_count": 3,
   "metadata": {},
   "outputs": [],
   "source": [
    "#feature scaling\n",
    "class FeatureScaling:\n",
    "    def __init__(self,X,y):\n",
    "        self.X=X.copy()\n",
    "        if y.ndim==1:\n",
    "            y=np.reshape(y,(y.shape[0],1))\n",
    "        self.y=y.copy()\n",
    "        self.minMax_X={}\n",
    "        self.minMax_y={}\n",
    "    \n",
    "    def fit_transform_X(self):\n",
    "        num_of_features=self.X.shape[1]\n",
    "        for i in range(num_of_features):\n",
    "            feature=self.X[:,i]\n",
    "            Mean=np.mean(feature)\n",
    "            Min=np.min(feature)\n",
    "            Max=np.max(feature)\n",
    "            feature=(feature-Mean)/(Max-Min)\n",
    "            self.minMax_X[i]=np.array([Mean,Min,Max])\n",
    "            self.X[:,i]=feature\n",
    "        return self.X.copy()\n",
    "    \n",
    "    def fit_transform_Y(self):\n",
    "        num_of_features=self.y.shape[1]\n",
    "        for i in range(num_of_features):\n",
    "            feature=self.y[:,i]\n",
    "            Mean=np.mean(feature)\n",
    "            Min=np.min(feature)\n",
    "            Max=np.max(feature)\n",
    "            feature=(feature-Mean)/(Max-Min)\n",
    "            self.minMax_y[i]=np.array([Mean,Min,Max])\n",
    "            self.y[:,i]=feature\n",
    "        return np.reshape(self.y,self.y.shape[0])\n",
    "    \n",
    "    def inverse_transform_X(self,X):\n",
    "        X_transformed=X.copy()\n",
    "        num_of_features=X_transformed.shape[1]\n",
    "        for i in range(num_of_features):\n",
    "            feature=X_transformed[:,i]\n",
    "            Mean=self.minMax_X[i][0]\n",
    "            Min=self.minMax_X[i][1]\n",
    "            Max=self.minMax_X[i][2]\n",
    "            feature=feature*(Max-Min)+Mean\n",
    "            X_transformed[:,i]=feature\n",
    "        return X_transformed\n",
    "    \n",
    "    def inverse_transform_Y(self,y):\n",
    "        y_transformed=y.copy()\n",
    "        if y_transformed.ndim==1:\n",
    "            y_transformed=np.reshape(y_transformed,(y_transformed.shape[0],1))\n",
    "        num_of_features=y_transformed.shape[1]\n",
    "        for i in range(num_of_features):\n",
    "            feature=y_transformed[:,i]\n",
    "            Mean=self.minMax_y[i][0]\n",
    "            Min=self.minMax_y[i][1]\n",
    "            Max=self.minMax_y[i][2]\n",
    "            feature=feature*(Max-Min)+Mean\n",
    "            y_transformed[:,i]=feature\n",
    "        return np.reshape(y_transformed,y_transformed.shape[0])\n",
    "    \n",
    "    def transform_X(self,X):\n",
    "        X_transformed=X.copy()\n",
    "        num_of_features=X_transformed.shape[1]\n",
    "        for i in range(num_of_features):\n",
    "            feature=X_transformed[:,i]\n",
    "            Mean=self.minMax_X[i][0]\n",
    "            Min=self.minMax_y[i][1]\n",
    "            Max=self.minMax_y[i][2]\n",
    "            feature=(feature-Mean)/(Max-Min)\n",
    "            X_transformed[:,i]=feature\n",
    "        return X_transformed\n",
    "    \n",
    "    def transform_Y(self,y):\n",
    "        y_transformed=y.copy()\n",
    "        if y_transformed.ndim==1:\n",
    "            y_transformed=np.reshape(y_transformed,(y_transformed.shape[0],1))\n",
    "        num_of_features=y_transformed.shape[1]\n",
    "        for i in range(num_of_features):\n",
    "            feature=y_transformed[:,i]\n",
    "            Mean=self.minMax_y[i][0]\n",
    "            Min=self.minMax_y[i][1]\n",
    "            Max=self.minMax_y[i][2]\n",
    "            feature=(feature-Mean)/(Max-Min)\n",
    "            y_transformed[:,i]=feature\n",
    "        return np.reshape(y_transformed,y_transformed.shape[0])\n",
    "    \n",
    "    def returnX(self):\n",
    "        return self.X\n",
    "    \n",
    "    def returnY(self):\n",
    "        return self.y"
   ]
  },
  {
   "cell_type": "code",
   "execution_count": 5,
   "metadata": {},
   "outputs": [],
   "source": [
    "import numpy as np\n",
    "class KNN:\n",
    "    def __init__(self,X_train,Y_train,K):\n",
    "        self.X_train=X_train\n",
    "        self.Y_train=Y_train\n",
    "        self.K=K\n",
    "        \n",
    "    def predict(self,X):\n",
    "        y_pred=np.array([])\n",
    "        for each in X:\n",
    "            ed=np.sum((each-self.X_train)**2,axis=1)\n",
    "            y_ed=np.concatenate((self.Y_train.reshape(self.Y_train.shape[0],1),ed.reshape(ed.shape[0],1)),axis=1)\n",
    "            y_ed=y_ed[y_ed[:,1].argsort()]\n",
    "            K_neighbours=y_ed[0:self.K]\n",
    "            (values,counts) = np.unique(K_neighbours[:,0].astype(int),return_counts=True)\n",
    "            y_pred=np.append(y_pred,values[np.argmax(counts)])\n",
    "        return y_pred\n",
    "            "
   ]
  },
  {
   "cell_type": "code",
   "execution_count": 6,
   "metadata": {},
   "outputs": [
    {
     "name": "stdout",
     "output_type": "stream",
     "text": [
      "    User ID  Gender  Age  EstimatedSalary  Purchased\n",
      "0  15624510    Male   19            19000          0\n",
      "1  15810944    Male   35            20000          0\n",
      "2  15668575  Female   26            43000          0\n",
      "3  15603246  Female   27            57000          0\n",
      "4  15804002    Male   19            76000          0\n",
      "5  15728773    Male   27            58000          0\n",
      "6  15598044  Female   27            84000          0\n",
      "7  15694829  Female   32           150000          1\n",
      "8  15600575    Male   25            33000          0\n",
      "9  15727311  Female   35            65000          0\n"
     ]
    },
    {
     "data": {
      "text/html": [
       "<div>\n",
       "<style scoped>\n",
       "    .dataframe tbody tr th:only-of-type {\n",
       "        vertical-align: middle;\n",
       "    }\n",
       "\n",
       "    .dataframe tbody tr th {\n",
       "        vertical-align: top;\n",
       "    }\n",
       "\n",
       "    .dataframe thead th {\n",
       "        text-align: right;\n",
       "    }\n",
       "</style>\n",
       "<table border=\"1\" class=\"dataframe\">\n",
       "  <thead>\n",
       "    <tr style=\"text-align: right;\">\n",
       "      <th></th>\n",
       "      <th>User ID</th>\n",
       "      <th>Age</th>\n",
       "      <th>EstimatedSalary</th>\n",
       "      <th>Purchased</th>\n",
       "    </tr>\n",
       "  </thead>\n",
       "  <tbody>\n",
       "    <tr>\n",
       "      <th>count</th>\n",
       "      <td>4.000000e+02</td>\n",
       "      <td>400.000000</td>\n",
       "      <td>400.000000</td>\n",
       "      <td>400.000000</td>\n",
       "    </tr>\n",
       "    <tr>\n",
       "      <th>mean</th>\n",
       "      <td>1.569154e+07</td>\n",
       "      <td>37.655000</td>\n",
       "      <td>69742.500000</td>\n",
       "      <td>0.357500</td>\n",
       "    </tr>\n",
       "    <tr>\n",
       "      <th>std</th>\n",
       "      <td>7.165832e+04</td>\n",
       "      <td>10.482877</td>\n",
       "      <td>34096.960282</td>\n",
       "      <td>0.479864</td>\n",
       "    </tr>\n",
       "    <tr>\n",
       "      <th>min</th>\n",
       "      <td>1.556669e+07</td>\n",
       "      <td>18.000000</td>\n",
       "      <td>15000.000000</td>\n",
       "      <td>0.000000</td>\n",
       "    </tr>\n",
       "    <tr>\n",
       "      <th>25%</th>\n",
       "      <td>1.562676e+07</td>\n",
       "      <td>29.750000</td>\n",
       "      <td>43000.000000</td>\n",
       "      <td>0.000000</td>\n",
       "    </tr>\n",
       "    <tr>\n",
       "      <th>50%</th>\n",
       "      <td>1.569434e+07</td>\n",
       "      <td>37.000000</td>\n",
       "      <td>70000.000000</td>\n",
       "      <td>0.000000</td>\n",
       "    </tr>\n",
       "    <tr>\n",
       "      <th>75%</th>\n",
       "      <td>1.575036e+07</td>\n",
       "      <td>46.000000</td>\n",
       "      <td>88000.000000</td>\n",
       "      <td>1.000000</td>\n",
       "    </tr>\n",
       "    <tr>\n",
       "      <th>max</th>\n",
       "      <td>1.581524e+07</td>\n",
       "      <td>60.000000</td>\n",
       "      <td>150000.000000</td>\n",
       "      <td>1.000000</td>\n",
       "    </tr>\n",
       "  </tbody>\n",
       "</table>\n",
       "</div>"
      ],
      "text/plain": [
       "            User ID         Age  EstimatedSalary   Purchased\n",
       "count  4.000000e+02  400.000000       400.000000  400.000000\n",
       "mean   1.569154e+07   37.655000     69742.500000    0.357500\n",
       "std    7.165832e+04   10.482877     34096.960282    0.479864\n",
       "min    1.556669e+07   18.000000     15000.000000    0.000000\n",
       "25%    1.562676e+07   29.750000     43000.000000    0.000000\n",
       "50%    1.569434e+07   37.000000     70000.000000    0.000000\n",
       "75%    1.575036e+07   46.000000     88000.000000    1.000000\n",
       "max    1.581524e+07   60.000000    150000.000000    1.000000"
      ]
     },
     "execution_count": 6,
     "metadata": {},
     "output_type": "execute_result"
    }
   ],
   "source": [
    "#reading dataset\n",
    "Data=pd.read_csv('Social_Network_Ads.csv')\n",
    "print(Data.head(10))\n",
    "Data.describe()"
   ]
  },
  {
   "cell_type": "code",
   "execution_count": 7,
   "metadata": {},
   "outputs": [
    {
     "name": "stdout",
     "output_type": "stream",
     "text": [
      "Training set size : 300\n",
      "Testing set size : 100\n"
     ]
    }
   ],
   "source": [
    "#training and testing set size\n",
    "train_size=int(0.75*Data.shape[0])\n",
    "test_size=int(0.25*Data.shape[0])\n",
    "print(\"Training set size : \"+ str(train_size))\n",
    "print(\"Testing set size : \"+str(test_size))"
   ]
  },
  {
   "cell_type": "code",
   "execution_count": 8,
   "metadata": {},
   "outputs": [],
   "source": [
    "#Getting features from dataset\n",
    "Data=Data.sample(frac=1)\n",
    "X=Data.iloc[:,[2, 3]].values\n",
    "y=Data.iloc[:,4].values\n",
    "X=X.astype(float)"
   ]
  },
  {
   "cell_type": "code",
   "execution_count": 9,
   "metadata": {},
   "outputs": [],
   "source": [
    "#feature scaling\n",
    "fs=FeatureScaling(X,y)\n",
    "X=fs.fit_transform_X()"
   ]
  },
  {
   "cell_type": "code",
   "execution_count": 10,
   "metadata": {},
   "outputs": [],
   "source": [
    "#training set split\n",
    "X_train=X[0:train_size,:]\n",
    "Y_train=y[0:train_size]"
   ]
  },
  {
   "cell_type": "code",
   "execution_count": 11,
   "metadata": {},
   "outputs": [],
   "source": [
    "#testing set split\n",
    "X_test=X[train_size:,:]\n",
    "Y_test=y[train_size:]"
   ]
  },
  {
   "cell_type": "code",
   "execution_count": 12,
   "metadata": {},
   "outputs": [
    {
     "name": "stdout",
     "output_type": "stream",
     "text": [
      "0.017045021057128906\n"
     ]
    }
   ],
   "source": [
    "l=time.time()\n",
    "knn=KNN(X_train,Y_train,5)\n",
    "y_pred=knn.predict(X_test)\n",
    "r=time.time()\n",
    "KNN_learn_time=(r-l)\n",
    "print(r-l)"
   ]
  },
  {
   "cell_type": "code",
   "execution_count": 13,
   "metadata": {},
   "outputs": [
    {
     "name": "stdout",
     "output_type": "stream",
     "text": [
      "[[54  8]\n",
      " [ 6 32]]\n"
     ]
    }
   ],
   "source": [
    "#getting the confusion matrix\n",
    "tp=len([i for i in range(0,Y_test.shape[0]) if Y_test[i]==0 and y_pred[i]==0])\n",
    "tn=len([i for i in range(0,Y_test.shape[0]) if Y_test[i]==0 and y_pred[i]==1])\n",
    "fp=len([i for i in range(0,Y_test.shape[0]) if Y_test[i]==1 and y_pred[i]==0])\n",
    "fn=len([i for i in range(0,Y_test.shape[0]) if Y_test[i]==1 and y_pred[i]==1])\n",
    "confusion_matrix=np.array([[tp,tn],[fp,fn]])\n",
    "print(confusion_matrix)"
   ]
  },
  {
   "cell_type": "code",
   "execution_count": 14,
   "metadata": {},
   "outputs": [
    {
     "name": "stdout",
     "output_type": "stream",
     "text": [
      "0.0020058155059814453\n"
     ]
    }
   ],
   "source": [
    "#Same algorithm using sklearn KNN just for comparsion purpose\n",
    "from sklearn.neighbors import KNeighborsClassifier\n",
    "classifier = KNeighborsClassifier(n_neighbors = 5, metric = 'minkowski', p = 2)\n",
    "l=time.time()\n",
    "classifier.fit(X_train, Y_train)\n",
    "y_pred_sklearn = classifier.predict(X_test)\n",
    "r=time.time()\n",
    "sklearn_time=(r-l)\n",
    "print(sklearn_time)"
   ]
  },
  {
   "cell_type": "code",
   "execution_count": 15,
   "metadata": {},
   "outputs": [
    {
     "name": "stdout",
     "output_type": "stream",
     "text": [
      "But sklearn time is faster than our implementation by: 8.497801022227504 times\n"
     ]
    }
   ],
   "source": [
    "print(\"But sklearn time is faster than our implementation by: \"+str(KNN_learn_time/sklearn_time)+\" times\")"
   ]
  },
  {
   "cell_type": "code",
   "execution_count": 16,
   "metadata": {},
   "outputs": [
    {
     "name": "stdout",
     "output_type": "stream",
     "text": [
      "[[54  8]\n",
      " [ 6 32]]\n"
     ]
    }
   ],
   "source": [
    "# Making the Confusion Matrix\n",
    "from sklearn.metrics import confusion_matrix\n",
    "cm = confusion_matrix(Y_test, y_pred_sklearn)\n",
    "print(cm)"
   ]
  },
  {
   "cell_type": "code",
   "execution_count": 17,
   "metadata": {},
   "outputs": [
    {
     "data": {
      "image/png": "[encoded data removed]",
      "text/plain": [
       "<Figure size 432x288 with 1 Axes>"
      ]
     },
     "metadata": {},
     "output_type": "display_data"
    },
    {
     "name": "stdout",
     "output_type": "stream",
     "text": [
      "Time required for plotting is: 25.802637815475464 seconds\n"
     ]
    }
   ],
   "source": [
    "# Visualising the Training set results for our implementation\n",
    "l=time.time()\n",
    "from matplotlib.colors import ListedColormap\n",
    "X_set, y_set = X_train, Y_train\n",
    "X1, X2 = np.meshgrid(np.arange(start = X_set[:, 0].min() - 1, stop = X_set[:, 0].max() + 1, step = 0.01),\n",
    "                     np.arange(start = X_set[:, 1].min() - 1, stop = X_set[:, 1].max() + 1, step = 0.01))\n",
    "plt.contourf(X1, X2, knn.predict(np.array([X1.ravel(), X2.ravel()]).T).reshape(X1.shape),\n",
    "             alpha = 0.75, cmap = ListedColormap(('orange', 'green')))\n",
    "plt.xlim(X1.min(), X1.max())\n",
    "plt.ylim(X2.min(), X2.max())\n",
    "for i, j in enumerate(np.unique(y_set)):\n",
    "    plt.scatter(X_set[y_set == j, 0], X_set[y_set == j, 1],\n",
    "                c = ListedColormap(('red', 'green'))(i), label = j,marker='.')\n",
    "plt.title('K-NN (Training set) using our implementation')\n",
    "plt.xlabel('Age')\n",
    "plt.ylabel('Estimated Salary')\n",
    "plt.legend()\n",
    "plt.show()\n",
    "r=time.time()\n",
    "print(\"Time required for plotting is: \"+str(r-l)+\" seconds\")"
   ]
  },
  {
   "cell_type": "code",
   "execution_count": 18,
   "metadata": {},
   "outputs": [
    {
     "data": {
      "image/png": "[encoded data removed]",
      "text/plain": [
       "<Figure size 432x288 with 1 Axes>"
      ]
     },
     "metadata": {},
     "output_type": "display_data"
    },
    {
     "name": "stdout",
     "output_type": "stream",
     "text": [
      "Time required for plotting is: 22.427660942077637 seconds\n"
     ]
    }
   ],
   "source": [
    "# Visualising the Test set results for our implementation\n",
    "l=time.time()\n",
    "X_set, y_set = X_test, Y_test\n",
    "X1, X2 = np.meshgrid(np.arange(start = X_set[:, 0].min() - 1, stop = X_set[:, 0].max() + 1, step = 0.01),\n",
    "                     np.arange(start = X_set[:, 1].min() - 1, stop = X_set[:, 1].max() + 1, step = 0.01))\n",
    "plt.contourf(X1, X2, knn.predict(np.array([X1.ravel(), X2.ravel()]).T).reshape(X1.shape),\n",
    "             alpha = 0.75, cmap = ListedColormap(('orange', 'green')))\n",
    "plt.xlim(X1.min(), X1.max())\n",
    "plt.ylim(X2.min(), X2.max())\n",
    "for i, j in enumerate(np.unique(y_set)):\n",
    "    plt.scatter(X_set[y_set == j, 0], X_set[y_set == j, 1],\n",
    "                c = ListedColormap(('red', 'green'))(i), label = j,marker='.')\n",
    "plt.title('K-NN (Test set) using our implementation')\n",
    "plt.xlabel('Age')\n",
    "plt.ylabel('Estimated Salary')\n",
    "plt.legend()\n",
    "plt.show()\n",
    "r=time.time()\n",
    "print(\"Time required for plotting is: \"+str(r-l)+\" seconds\")"
   ]
  },
  {
   "cell_type": "code",
   "execution_count": 19,
   "metadata": {},
   "outputs": [
    {
     "data": {
      "image/png": "[encoded data removed]",
      "text/plain": [
       "<Figure size 432x288 with 1 Axes>"
      ]
     },
     "metadata": {},
     "output_type": "display_data"
    },
    {
     "name": "stdout",
     "output_type": "stream",
     "text": [
      "Time required for plotting is: 0.48911190032958984 seconds\n"
     ]
    }
   ],
   "source": [
    "# Visualising the Training set results for sklearn class\n",
    "l=time.time()\n",
    "X_set, y_set = X_train, Y_train\n",
    "X1, X2 = np.meshgrid(np.arange(start = X_set[:, 0].min() - 1, stop = X_set[:, 0].max() + 1, step = 0.01),\n",
    "                     np.arange(start = X_set[:, 1].min() - 1, stop = X_set[:, 1].max() + 1, step = 0.01))\n",
    "plt.contourf(X1, X2, classifier.predict(np.array([X1.ravel(), X2.ravel()]).T).reshape(X1.shape),\n",
    "             alpha = 0.75, cmap = ListedColormap(('orange', 'green')))\n",
    "plt.xlim(X1.min(), X1.max())\n",
    "plt.ylim(X2.min(), X2.max())\n",
    "for i, j in enumerate(np.unique(y_set)):\n",
    "    plt.scatter(X_set[y_set == j, 0], X_set[y_set == j, 1],\n",
    "                c = ListedColormap(('red', 'green'))(i), label = j,marker='.')\n",
    "plt.title('K-NN (Training set)')\n",
    "plt.xlabel('Age')\n",
    "plt.ylabel('Estimated Salary')\n",
    "plt.legend()\n",
    "plt.show()\n",
    "r=time.time()\n",
    "print(\"Time required for plotting is: \"+str(r-l)+\" seconds\")"
   ]
  },
  {
   "cell_type": "code",
   "execution_count": 20,
   "metadata": {},
   "outputs": [
    {
     "data": {
      "image/png": "[encoded data removed]",
      "text/plain": [
       "<Figure size 432x288 with 1 Axes>"
      ]
     },
     "metadata": {},
     "output_type": "display_data"
    },
    {
     "name": "stdout",
     "output_type": "stream",
     "text": [
      "Time required for plotting is: 0.47005295753479004 seconds\n"
     ]
    }
   ],
   "source": [
    "# Visualising the Test set results for sklearn class\n",
    "l=time.time()\n",
    "X_set, y_set = X_test, Y_test\n",
    "X1, X2 = np.meshgrid(np.arange(start = X_set[:, 0].min() - 1, stop = X_set[:, 0].max() + 1, step = 0.01),\n",
    "                     np.arange(start = X_set[:, 1].min() - 1, stop = X_set[:, 1].max() + 1, step = 0.01))\n",
    "plt.contourf(X1, X2, classifier.predict(np.array([X1.ravel(), X2.ravel()]).T).reshape(X1.shape),\n",
    "             alpha = 0.75, cmap = ListedColormap(('orange', 'green')))\n",
    "plt.xlim(X1.min(), X1.max())\n",
    "plt.ylim(X2.min(), X2.max())\n",
    "for i, j in enumerate(np.unique(y_set)):\n",
    "    plt.scatter(X_set[y_set == j, 0], X_set[y_set == j, 1],\n",
    "                c = ListedColormap(('red', 'green'))(i), label = j,marker='.')\n",
    "plt.title('K-NN (Test set)')\n",
    "plt.xlabel('Age')\n",
    "plt.ylabel('Estimated Salary')\n",
    "plt.legend()\n",
    "plt.show()\n",
    "r=time.time()\n",
    "print(\"Time required for plotting is: \"+str(r-l)+\" seconds\")"
   ]
  },
  {
   "cell_type": "markdown",
   "metadata": {},
   "source": [
    "Conclusion is our implementation is slower but still we have achieved similar results compared to sklearn package"
   ]
  },
  {
   "cell_type": "code",
   "execution_count": null,
   "metadata": {},
   "outputs": [],
   "source": []
  }
 ],
 "metadata": {
  "kernelspec": {
   "display_name": "Python 3",
   "language": "python",
   "name": "python3"
  },
  "language_info": {
   "codemirror_mode": {
    "name": "ipython",
    "version": 3
   },
   "file_extension": ".py",
   "mimetype": "text/x-python",
   "name": "python",
   "nbconvert_exporter": "python",
   "pygments_lexer": "ipython3",
   "version": "3.6.5"
  }
 },
 "nbformat": 4,
 "nbformat_minor": 2
}
